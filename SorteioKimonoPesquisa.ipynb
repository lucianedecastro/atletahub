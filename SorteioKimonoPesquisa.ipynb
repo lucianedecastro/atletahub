{
  "nbformat": 4,
  "nbformat_minor": 0,
  "metadata": {
    "colab": {
      "provenance": [],
      "mount_file_id": "1GKWEa1o5jATjgD6oxSAJ_J4WskmUoNNr",
      "authorship_tag": "ABX9TyMFm7XUtOhwtEvpKYh3ne/Q",
      "include_colab_link": true
    },
    "kernelspec": {
      "name": "python3",
      "display_name": "Python 3"
    },
    "language_info": {
      "name": "python"
    }
  },
  "cells": [
    {
      "cell_type": "markdown",
      "metadata": {
        "id": "view-in-github",
        "colab_type": "text"
      },
      "source": [
        "<a href=\"https://colab.research.google.com/github/lucianedecastro/atletahub/blob/main/SorteioKimonoPesquisa.ipynb\" target=\"_parent\"><img src=\"https://colab.research.google.com/assets/colab-badge.svg\" alt=\"Open In Colab\"/></a>"
      ]
    },
    {
      "cell_type": "code",
      "source": [
        "import pandas as pd\n",
        "import random\n",
        "import os"
      ],
      "metadata": {
        "id": "fUE839H3Ltav"
      },
      "execution_count": 1,
      "outputs": []
    },
    {
      "cell_type": "code",
      "source": [
        "print('Hello, World!')"
      ],
      "metadata": {
        "colab": {
          "base_uri": "https://localhost:8080/"
        },
        "id": "kKKl2ljULuz1",
        "outputId": "f2fcfeae-7442-4f17-963c-c8e3da9ef902"
      },
      "execution_count": 7,
      "outputs": [
        {
          "output_type": "stream",
          "name": "stdout",
          "text": [
            "Hello, World!\n"
          ]
        }
      ]
    },
    {
      "cell_type": "code",
      "source": [
        "print('Bem vindos ao sorteio do kimono da ARJJ')"
      ],
      "metadata": {
        "colab": {
          "base_uri": "https://localhost:8080/"
        },
        "id": "8x6eSb54L88F",
        "outputId": "f46d0584-0791-419c-e559-39add52878c3"
      },
      "execution_count": 8,
      "outputs": [
        {
          "output_type": "stream",
          "name": "stdout",
          "text": [
            "Bem vindos ao sorteio do kimono da ARJJ\n"
          ]
        }
      ]
    },
    {
      "cell_type": "code",
      "source": [
        "def realizar_sorteio(arquivo='/content/Sorteio.xlsx', aba=\"Sorteio\"):\n",
        "    try:\n",
        "        # Ler a aba específica da planilha\n",
        "        dados = pd.read_excel(arquivo, sheet_name=aba)\n",
        "\n",
        "        # Verificar se existem dados na planilha\n",
        "        if dados.empty:\n",
        "            print(\"Erro: A planilha está vazia.\")\n",
        "            return None\n",
        "\n",
        "        try:\n",
        "            # Tentar acessar a primeira coluna pelo nome, se tiver\n",
        "            participantes = dados.iloc[:, 0].dropna().tolist() # índice 0 = primeira coluna\n",
        "        except KeyError:\n",
        "            print(\"Erro: Não foi possível acessar a coluna de participantes. Verifique o nome da coluna.\")\n",
        "            return None\n",
        "\n",
        "        if not participantes:\n",
        "            print(\"Erro: Nenhum participante encontrado após remover valores vazios.\")\n",
        "            return None\n",
        "\n",
        "        # Sorteio\n",
        "        ganhador = random.choice(participantes)\n",
        "        return ganhador\n",
        "\n",
        "    except FileNotFoundError: #except para indicar ausência do arquivo com os dados\n",
        "        print(f\"Erro: Arquivo não encontrado: {arquivo}\")\n",
        "        return None\n",
        "    except Exception as e: #except para indicar erro no caminho para a planilha de dados\n",
        "        print(f\"Erro ao acessar a planilha: {e}\")\n",
        "        return None\n",
        "\n",
        "\n",
        "# Execução do sorteio\n",
        "ganhador = realizar_sorteio()\n",
        "if ganhador:\n",
        "    print(f\"O ganhador é: {ganhador}\")"
      ],
      "metadata": {
        "colab": {
          "base_uri": "https://localhost:8080/"
        },
        "id": "P3uX2KeoHtsB",
        "outputId": "30f8347a-50e9-4534-98a2-5e43f4e6c6be"
      },
      "execution_count": 9,
      "outputs": [
        {
          "output_type": "stream",
          "name": "stdout",
          "text": [
            "O ganhador é: Davi calebe silva marucho\n"
          ]
        }
      ]
    }
  ]
}